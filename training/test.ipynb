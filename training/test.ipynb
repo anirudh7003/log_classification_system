{
 "cells": [
  {
   "cell_type": "code",
   "execution_count": null,
   "id": "0a37d1ed",
   "metadata": {},
   "outputs": [],
   "source": []
  },
  {
   "cell_type": "code",
   "execution_count": 1,
   "id": "0774eb09",
   "metadata": {},
   "outputs": [
    {
     "data": {
      "text/html": [
       "<div>\n",
       "<style scoped>\n",
       "    .dataframe tbody tr th:only-of-type {\n",
       "        vertical-align: middle;\n",
       "    }\n",
       "\n",
       "    .dataframe tbody tr th {\n",
       "        vertical-align: top;\n",
       "    }\n",
       "\n",
       "    .dataframe thead th {\n",
       "        text-align: right;\n",
       "    }\n",
       "</style>\n",
       "<table border=\"1\" class=\"dataframe\">\n",
       "  <thead>\n",
       "    <tr style=\"text-align: right;\">\n",
       "      <th></th>\n",
       "      <th>timestamp</th>\n",
       "      <th>source</th>\n",
       "      <th>log_message</th>\n",
       "      <th>target_label</th>\n",
       "      <th>complexity</th>\n",
       "    </tr>\n",
       "  </thead>\n",
       "  <tbody>\n",
       "    <tr>\n",
       "      <th>0</th>\n",
       "      <td>2025-06-27 07:20:25</td>\n",
       "      <td>ModernCRM</td>\n",
       "      <td>nova.osapi_compute.wsgi.server [req-b9718cd8-f...</td>\n",
       "      <td>HTTP Status</td>\n",
       "      <td>bert</td>\n",
       "    </tr>\n",
       "    <tr>\n",
       "      <th>1</th>\n",
       "      <td>1/14/2025 23:07</td>\n",
       "      <td>ModernCRM</td>\n",
       "      <td>Email service experiencing issues with sending</td>\n",
       "      <td>Critical Error</td>\n",
       "      <td>bert</td>\n",
       "    </tr>\n",
       "    <tr>\n",
       "      <th>2</th>\n",
       "      <td>1/17/2025 1:29</td>\n",
       "      <td>AnalyticsEngine</td>\n",
       "      <td>Unauthorized access to data was attempted</td>\n",
       "      <td>Security Alert</td>\n",
       "      <td>bert</td>\n",
       "    </tr>\n",
       "    <tr>\n",
       "      <th>3</th>\n",
       "      <td>2025-07-12 00:24:16</td>\n",
       "      <td>ModernHR</td>\n",
       "      <td>nova.osapi_compute.wsgi.server [req-4895c258-b...</td>\n",
       "      <td>HTTP Status</td>\n",
       "      <td>bert</td>\n",
       "    </tr>\n",
       "    <tr>\n",
       "      <th>4</th>\n",
       "      <td>2025-06-02 18:25:23</td>\n",
       "      <td>BillingSystem</td>\n",
       "      <td>nova.osapi_compute.wsgi.server [req-ee8bc8ba-9...</td>\n",
       "      <td>HTTP Status</td>\n",
       "      <td>bert</td>\n",
       "    </tr>\n",
       "  </tbody>\n",
       "</table>\n",
       "</div>"
      ],
      "text/plain": [
       "             timestamp           source  \\\n",
       "0  2025-06-27 07:20:25        ModernCRM   \n",
       "1      1/14/2025 23:07        ModernCRM   \n",
       "2       1/17/2025 1:29  AnalyticsEngine   \n",
       "3  2025-07-12 00:24:16         ModernHR   \n",
       "4  2025-06-02 18:25:23    BillingSystem   \n",
       "\n",
       "                                         log_message    target_label  \\\n",
       "0  nova.osapi_compute.wsgi.server [req-b9718cd8-f...     HTTP Status   \n",
       "1     Email service experiencing issues with sending  Critical Error   \n",
       "2          Unauthorized access to data was attempted  Security Alert   \n",
       "3  nova.osapi_compute.wsgi.server [req-4895c258-b...     HTTP Status   \n",
       "4  nova.osapi_compute.wsgi.server [req-ee8bc8ba-9...     HTTP Status   \n",
       "\n",
       "  complexity  \n",
       "0       bert  \n",
       "1       bert  \n",
       "2       bert  \n",
       "3       bert  \n",
       "4       bert  "
      ]
     },
     "execution_count": 1,
     "metadata": {},
     "output_type": "execute_result"
    }
   ],
   "source": [
    "import pandas  as pd\n",
    "df=pd.read_csv(r\"C:\\Users\\aniru\\Desktop\\log_managment_tool\\training\\dataset\\synthetic_logs.csv\")\n",
    "df.head()\n"
   ]
  },
  {
   "cell_type": "code",
   "execution_count": 2,
   "id": "5108b29c",
   "metadata": {},
   "outputs": [],
   "source": [
    "df = df.drop('complexity', axis=1)\n"
   ]
  },
  {
   "cell_type": "code",
   "execution_count": 3,
   "id": "d967c604",
   "metadata": {},
   "outputs": [
    {
     "name": "stderr",
     "output_type": "stream",
     "text": [
      "C:\\Users\\aniru\\AppData\\Local\\Programs\\Python\\Python312\\Lib\\site-packages\\tqdm\\auto.py:21: TqdmWarning: IProgress not found. Please update jupyter and ipywidgets. See https://ipywidgets.readthedocs.io/en/stable/user_install.html\n",
      "  from .autonotebook import tqdm as notebook_tqdm\n"
     ]
    },
    {
     "name": "stdout",
     "output_type": "stream",
     "text": [
      "WARNING:tensorflow:From C:\\Users\\aniru\\AppData\\Local\\Programs\\Python\\Python312\\Lib\\site-packages\\tf_keras\\src\\losses.py:2976: The name tf.losses.sparse_softmax_cross_entropy is deprecated. Please use tf.compat.v1.losses.sparse_softmax_cross_entropy instead.\n",
      "\n"
     ]
    },
    {
     "name": "stderr",
     "output_type": "stream",
     "text": [
      "Batches: 100%|█████████████████████████████████| 76/76 [00:22<00:00,  3.38it/s]\n"
     ]
    },
    {
     "data": {
      "text/html": [
       "<div>\n",
       "<style scoped>\n",
       "    .dataframe tbody tr th:only-of-type {\n",
       "        vertical-align: middle;\n",
       "    }\n",
       "\n",
       "    .dataframe tbody tr th {\n",
       "        vertical-align: top;\n",
       "    }\n",
       "\n",
       "    .dataframe thead th {\n",
       "        text-align: right;\n",
       "    }\n",
       "</style>\n",
       "<table border=\"1\" class=\"dataframe\">\n",
       "  <thead>\n",
       "    <tr style=\"text-align: right;\">\n",
       "      <th></th>\n",
       "      <th>log_message</th>\n",
       "      <th>cluster</th>\n",
       "    </tr>\n",
       "  </thead>\n",
       "  <tbody>\n",
       "    <tr>\n",
       "      <th>0</th>\n",
       "      <td>nova.osapi_compute.wsgi.server [req-b9718cd8-f...</td>\n",
       "      <td>0</td>\n",
       "    </tr>\n",
       "    <tr>\n",
       "      <th>1</th>\n",
       "      <td>Email service experiencing issues with sending</td>\n",
       "      <td>1</td>\n",
       "    </tr>\n",
       "    <tr>\n",
       "      <th>2</th>\n",
       "      <td>Unauthorized access to data was attempted</td>\n",
       "      <td>2</td>\n",
       "    </tr>\n",
       "    <tr>\n",
       "      <th>3</th>\n",
       "      <td>nova.osapi_compute.wsgi.server [req-4895c258-b...</td>\n",
       "      <td>0</td>\n",
       "    </tr>\n",
       "    <tr>\n",
       "      <th>4</th>\n",
       "      <td>nova.osapi_compute.wsgi.server [req-ee8bc8ba-9...</td>\n",
       "      <td>0</td>\n",
       "    </tr>\n",
       "  </tbody>\n",
       "</table>\n",
       "</div>"
      ],
      "text/plain": [
       "                                         log_message  cluster\n",
       "0  nova.osapi_compute.wsgi.server [req-b9718cd8-f...        0\n",
       "1     Email service experiencing issues with sending        1\n",
       "2          Unauthorized access to data was attempted        2\n",
       "3  nova.osapi_compute.wsgi.server [req-4895c258-b...        0\n",
       "4  nova.osapi_compute.wsgi.server [req-ee8bc8ba-9...        0"
      ]
     },
     "execution_count": 3,
     "metadata": {},
     "output_type": "execute_result"
    }
   ],
   "source": [
    "from sentence_transformers import SentenceTransformer\n",
    "from sklearn.cluster import DBSCAN\n",
    "\n",
    "# Load a pre-trained sentence transformer model\n",
    "model = SentenceTransformer('all-MiniLM-L6-v2')\n",
    "\n",
    "# Generate embeddings for the log_message column\n",
    "embeddings = model.encode(df['log_message'].tolist(), show_progress_bar=True)\n",
    "\n",
    "# Perform DBSCAN clustering\n",
    "dbscan = DBSCAN(eps=0.2, min_samples=1, metric='cosine')\n",
    "clusters = dbscan.fit_predict(embeddings)\n",
    "\n",
    "# Add cluster labels to the dataframe\n",
    "df['cluster'] = clusters\n",
    "\n",
    "df[['log_message', 'cluster']].head()"
   ]
  },
  {
   "cell_type": "code",
   "execution_count": 4,
   "id": "4706b2ba",
   "metadata": {},
   "outputs": [
    {
     "data": {
      "text/plain": [
       "array([  0,   1,   2,   3,   4,   5,   6,   7,   8,   9,  10,  11,  12,\n",
       "        13,  14,  15,  16,  17,  18,  19,  20,  21,  22,  23,  24,  25,\n",
       "        26,  27,  28,  29,  30,  31,  32,  33,  34,  35,  36,  37,  38,\n",
       "        39,  40,  41,  42,  43,  44,  45,  46,  47,  48,  49,  50,  51,\n",
       "        52,  53,  54,  55,  56,  57,  58,  59,  60,  61,  62,  63,  64,\n",
       "        65,  66,  67,  68,  69,  70,  71,  72,  73,  74,  75,  76,  77,\n",
       "        78,  79,  80,  81,  82,  83,  84,  85,  86,  87,  88,  89,  90,\n",
       "        91,  92,  93,  94,  95,  96,  97,  98,  99, 100, 101, 102, 103,\n",
       "       104, 105, 106, 107, 108, 109, 110, 111, 112, 113, 114, 115, 116,\n",
       "       117, 118, 119, 120, 121, 122, 123, 124, 125, 126, 127, 128, 129,\n",
       "       130, 131, 132, 133, 134, 135], dtype=int64)"
      ]
     },
     "execution_count": 4,
     "metadata": {},
     "output_type": "execute_result"
    }
   ],
   "source": [
    "df[\"cluster\"].unique()"
   ]
  },
  {
   "cell_type": "code",
   "execution_count": 5,
   "id": "55b37e71",
   "metadata": {},
   "outputs": [
    {
     "data": {
      "text/html": [
       "<div>\n",
       "<style scoped>\n",
       "    .dataframe tbody tr th:only-of-type {\n",
       "        vertical-align: middle;\n",
       "    }\n",
       "\n",
       "    .dataframe tbody tr th {\n",
       "        vertical-align: top;\n",
       "    }\n",
       "\n",
       "    .dataframe thead th {\n",
       "        text-align: right;\n",
       "    }\n",
       "</style>\n",
       "<table border=\"1\" class=\"dataframe\">\n",
       "  <thead>\n",
       "    <tr style=\"text-align: right;\">\n",
       "      <th></th>\n",
       "      <th>timestamp</th>\n",
       "      <th>source</th>\n",
       "      <th>log_message</th>\n",
       "      <th>target_label</th>\n",
       "      <th>cluster</th>\n",
       "    </tr>\n",
       "  </thead>\n",
       "  <tbody>\n",
       "    <tr>\n",
       "      <th>8</th>\n",
       "      <td>2025-02-12 10:42:29</td>\n",
       "      <td>ThirdPartyAPI</td>\n",
       "      <td>nova.compute.claims [req-a07ac654-8e81-416d-bf...</td>\n",
       "      <td>Resource Usage</td>\n",
       "      <td>5</td>\n",
       "    </tr>\n",
       "    <tr>\n",
       "      <th>26</th>\n",
       "      <td>2025-03-03 17:11:11</td>\n",
       "      <td>ModernCRM</td>\n",
       "      <td>nova.compute.claims [req-d6986b54-3735-4a42-90...</td>\n",
       "      <td>Resource Usage</td>\n",
       "      <td>5</td>\n",
       "    </tr>\n",
       "    <tr>\n",
       "      <th>40</th>\n",
       "      <td>2025-06-19 21:42:34</td>\n",
       "      <td>ThirdPartyAPI</td>\n",
       "      <td>nova.compute.claims [req-72b4858f-049e-49e1-b3...</td>\n",
       "      <td>Resource Usage</td>\n",
       "      <td>5</td>\n",
       "    </tr>\n",
       "    <tr>\n",
       "      <th>58</th>\n",
       "      <td>2025-09-13 14:45:14</td>\n",
       "      <td>AnalyticsEngine</td>\n",
       "      <td>nova.compute.claims [req-5c8f52bd-8e3c-41f0-95...</td>\n",
       "      <td>Resource Usage</td>\n",
       "      <td>5</td>\n",
       "    </tr>\n",
       "    <tr>\n",
       "      <th>61</th>\n",
       "      <td>2025-04-27 11:18:18</td>\n",
       "      <td>ThirdPartyAPI</td>\n",
       "      <td>nova.compute.claims [req-d38f479d-9bb9-4276-96...</td>\n",
       "      <td>Resource Usage</td>\n",
       "      <td>5</td>\n",
       "    </tr>\n",
       "    <tr>\n",
       "      <th>...</th>\n",
       "      <td>...</td>\n",
       "      <td>...</td>\n",
       "      <td>...</td>\n",
       "      <td>...</td>\n",
       "      <td>...</td>\n",
       "    </tr>\n",
       "    <tr>\n",
       "      <th>2336</th>\n",
       "      <td>2025-12-10 11:53:33</td>\n",
       "      <td>AnalyticsEngine</td>\n",
       "      <td>nova.compute.claims [req-97fcea79-42f7-4241-9b...</td>\n",
       "      <td>Resource Usage</td>\n",
       "      <td>5</td>\n",
       "    </tr>\n",
       "    <tr>\n",
       "      <th>2345</th>\n",
       "      <td>2025-12-22 01:38:48</td>\n",
       "      <td>BillingSystem</td>\n",
       "      <td>nova.compute.claims [req-caeb3818-dab6-4e8d-9e...</td>\n",
       "      <td>Resource Usage</td>\n",
       "      <td>5</td>\n",
       "    </tr>\n",
       "    <tr>\n",
       "      <th>2352</th>\n",
       "      <td>2025-02-18 00:16:44</td>\n",
       "      <td>ModernCRM</td>\n",
       "      <td>nova.compute.claims [req-98474cd9-61e1-4afe-bd...</td>\n",
       "      <td>Resource Usage</td>\n",
       "      <td>5</td>\n",
       "    </tr>\n",
       "    <tr>\n",
       "      <th>2355</th>\n",
       "      <td>2025-11-28 18:03:55</td>\n",
       "      <td>BillingSystem</td>\n",
       "      <td>nova.compute.claims [req-6f9ecdfe-481c-4535-9b...</td>\n",
       "      <td>Resource Usage</td>\n",
       "      <td>5</td>\n",
       "    </tr>\n",
       "    <tr>\n",
       "      <th>2372</th>\n",
       "      <td>2025-08-07 05:49:03</td>\n",
       "      <td>ThirdPartyAPI</td>\n",
       "      <td>nova.compute.claims [req-01d570b0-78a7-4719-b7...</td>\n",
       "      <td>Resource Usage</td>\n",
       "      <td>5</td>\n",
       "    </tr>\n",
       "  </tbody>\n",
       "</table>\n",
       "<p>147 rows × 5 columns</p>\n",
       "</div>"
      ],
      "text/plain": [
       "                timestamp           source  \\\n",
       "8     2025-02-12 10:42:29    ThirdPartyAPI   \n",
       "26    2025-03-03 17:11:11        ModernCRM   \n",
       "40    2025-06-19 21:42:34    ThirdPartyAPI   \n",
       "58    2025-09-13 14:45:14  AnalyticsEngine   \n",
       "61    2025-04-27 11:18:18    ThirdPartyAPI   \n",
       "...                   ...              ...   \n",
       "2336  2025-12-10 11:53:33  AnalyticsEngine   \n",
       "2345  2025-12-22 01:38:48    BillingSystem   \n",
       "2352  2025-02-18 00:16:44        ModernCRM   \n",
       "2355  2025-11-28 18:03:55    BillingSystem   \n",
       "2372  2025-08-07 05:49:03    ThirdPartyAPI   \n",
       "\n",
       "                                            log_message    target_label  \\\n",
       "8     nova.compute.claims [req-a07ac654-8e81-416d-bf...  Resource Usage   \n",
       "26    nova.compute.claims [req-d6986b54-3735-4a42-90...  Resource Usage   \n",
       "40    nova.compute.claims [req-72b4858f-049e-49e1-b3...  Resource Usage   \n",
       "58    nova.compute.claims [req-5c8f52bd-8e3c-41f0-95...  Resource Usage   \n",
       "61    nova.compute.claims [req-d38f479d-9bb9-4276-96...  Resource Usage   \n",
       "...                                                 ...             ...   \n",
       "2336  nova.compute.claims [req-97fcea79-42f7-4241-9b...  Resource Usage   \n",
       "2345  nova.compute.claims [req-caeb3818-dab6-4e8d-9e...  Resource Usage   \n",
       "2352  nova.compute.claims [req-98474cd9-61e1-4afe-bd...  Resource Usage   \n",
       "2355  nova.compute.claims [req-6f9ecdfe-481c-4535-9b...  Resource Usage   \n",
       "2372  nova.compute.claims [req-01d570b0-78a7-4719-b7...  Resource Usage   \n",
       "\n",
       "      cluster  \n",
       "8           5  \n",
       "26          5  \n",
       "40          5  \n",
       "58          5  \n",
       "61          5  \n",
       "...       ...  \n",
       "2336        5  \n",
       "2345        5  \n",
       "2352        5  \n",
       "2355        5  \n",
       "2372        5  \n",
       "\n",
       "[147 rows x 5 columns]"
      ]
     },
     "execution_count": 5,
     "metadata": {},
     "output_type": "execute_result"
    }
   ],
   "source": [
    "df[df[\"cluster\"] == 5]"
   ]
  },
  {
   "cell_type": "code",
   "execution_count": 6,
   "id": "2d860885",
   "metadata": {},
   "outputs": [
    {
     "name": "stdout",
     "output_type": "stream",
     "text": [
      "Clustered Patterns:\n",
      "Cluster 0:\n",
      "  nova.osapi_compute.wsgi.server [req-b9718cd8-f65e-49cc-8349-6cf7122af137 113d3a99c3da401fbd62cc2caa5b96d2 54fadb412c4e40cdbaed9335e4c35a9e - - -] 10.11.10.1 \"GET /v2/54fadb412c4e40cdbaed9335e4c35a9e/servers/detail HTTP/1.1\" status: 200 len: 1893 time: 0.2675118\n",
      "  nova.osapi_compute.wsgi.server [req-4895c258-b2f8-488f-a2a3-4fae63982e48 113d3a99c3da401fbd62cc2caa5b96d2 54fadb412c4e40cdbaed9335e4c35a9e - - -] 10.11.10.1 \"GET /v2/54fadb412c4e40cdbaed9335e4c35a9e/servers/detail HTTP/1.1\" HTTP status code -  200 len: 211 time: 0.0968180\n",
      "  nova.osapi_compute.wsgi.server [req-ee8bc8ba-9265-4280-9215-dbe000a41209 113d3a99c3da401fbd62cc2caa5b96d2 54fadb412c4e40cdbaed9335e4c35a9e - - -] 10.11.10.1 \"GET /v2/54fadb412c4e40cdbaed9335e4c35a9e/servers/detail HTTP/1.1\" RCODE  200 len: 1874 time: 0.2280791\n",
      "  nova.osapi_compute.wsgi.server [req-f0bffbc3-5ab0-4916-91c1-0a61dd7d4ec2 113d3a99c3da401fbd62cc2caa5b96d2 54fadb412c4e40cdbaed9335e4c35a9e - - -] 10.11.10.1 \"GET /v2/54fadb412c4e40cdbaed9335e4c35a9e/servers/detail HTTP/1.1\" Return code: 200 len: 1874 time: 0.2131531\n",
      "  nova.osapi_compute.wsgi.server [req-2bf7cfee-a236-42f3-8fb1-96fefab0b302 113d3a99c3da401fbd62cc2caa5b96d2 54fadb412c4e40cdbaed9335e4c35a9e - - -] 10.11.10.1 \"GET /v2/54fadb412c4e40cdbaed9335e4c35a9e/servers/detail HTTP/1.1\" RCODE  200 len: 1874 time: 0.1794369\n",
      "Cluster 5:\n",
      "  nova.compute.claims [req-a07ac654-8e81-416d-bfbb-189116b07969 113d3a99c3da401fbd62cc2caa5b96d2 54fadb412c4e40cdbaed9335e4c35a9e - - -] [instance: bf8c824d-f099-4433-a41e-e3da7578262e] Total memory: 64172 MB, used: 512.00 MB\n",
      "  nova.compute.claims [req-d6986b54-3735-4a42-9074-0ba7d9717de9 113d3a99c3da401fbd62cc2caa5b96d2 54fadb412c4e40cdbaed9335e4c35a9e - - -] [instance: af5f7392-f7d4-4298-b647-c98924c64aa1] memory limit: 96258.00 MB, free: 95746.00 MB\n",
      "  nova.compute.claims [req-72b4858f-049e-49e1-b31e-b562c5018eaf 113d3a99c3da401fbd62cc2caa5b96d2 54fadb412c4e40cdbaed9335e4c35a9e - - -] [instance: 63a0d960-70b6-44c6-b606-491478a5cadf] disk limit not specified, defaulting to unlimited\n",
      "  nova.compute.claims [req-5c8f52bd-8e3c-41f0-95a5-7861d247cafa 113d3a99c3da401fbd62cc2caa5b96d2 54fadb412c4e40cdbaed9335e4c35a9e - - -] [instance: d96a117b-0193-4549-bdcc-63b917273d1d] vcpu limit not specified, defaulting to unlimited\n",
      "  nova.compute.claims [req-d38f479d-9bb9-4276-9688-52607e8fd350 113d3a99c3da401fbd62cc2caa5b96d2 54fadb412c4e40cdbaed9335e4c35a9e - - -] [instance: 95960536-049b-41f6-9049-05fc479b6a7c] disk limit not specified, defaulting to unlimited\n",
      "Cluster 11:\n",
      "  User User685 logged out.\n",
      "  User User395 logged in.\n",
      "  User User225 logged in.\n",
      "  User User494 logged out.\n",
      "  User User900 logged in.\n",
      "Cluster 13:\n",
      "  Backup started at 2025-05-14 07:06:55.\n",
      "  Backup started at 2025-02-15 20:00:19.\n",
      "  Backup ended at 2025-08-08 13:06:23.\n",
      "  Backup started at 2025-11-14 08:27:43.\n",
      "  Backup started at 2025-12-09 10:19:11.\n",
      "Cluster 7:\n",
      "  Multiple bad login attempts detected on user 8538 account\n",
      "  Multiple login failures occurred on user 9052 account\n",
      "  User 7153 made multiple incorrect login attempts\n",
      "  User 8300 made multiple incorrect login attempts\n",
      "  Multiple login failures were detected for user 6373\n",
      "Cluster 8:\n",
      "  Backup completed successfully.\n",
      "  Backup completed successfully.\n",
      "  Backup completed successfully.\n",
      "  Backup completed successfully.\n",
      "  Backup completed successfully.\n",
      "Cluster 21:\n",
      "  System updated to version 3.9.1.\n",
      "  System updated to version 5.5.4.\n",
      "  System updated to version 4.7.4.\n",
      "  System updated to version 3.7.7.\n",
      "  System updated to version 2.6.2.\n",
      "Cluster 3:\n",
      "  Shard 6 replication task ended in failure\n",
      "  Data replication task for shard 14 did not complete\n",
      "  Data replication task failed for shard 17\n",
      "  Replication of data to shard 14 failed\n",
      "  Data replication task for shard 6 did not complete\n",
      "Cluster 4:\n",
      "  File data_6169.csv uploaded successfully by user User953.\n",
      "  File data_3847.csv uploaded successfully by user User175.\n",
      "  File data_7366.csv uploaded successfully by user User282.\n",
      "  File data_1206.csv uploaded successfully by user User359.\n",
      "  File data_1503.csv uploaded successfully by user User151.\n",
      "Cluster 17:\n",
      "  Denied access attempt on restricted account Account2682\n",
      "  Unauthorized login attempt on protected account Account5030\n",
      "  Account Account9437 blocked due to failed login\n",
      "  Account Account7999 access denied due to login failure\n",
      "  Invalid login attempt made on secured account Account7864\n",
      "Cluster 32:\n",
      "  Disk cleanup completed successfully.\n",
      "  Disk cleanup completed successfully.\n",
      "  Disk cleanup completed successfully.\n",
      "  Disk cleanup completed successfully.\n",
      "  Disk cleanup completed successfully.\n",
      "Cluster 6:\n",
      "  Critical system unit error: unit ID Component55\n",
      "  System component malfunction: component ID Component79\n",
      "  Critical system element is down: element ID Component96\n",
      "  Essential system part malfunction: part ID Component6\n",
      "  Failure occurred in critical system component: component ID Component92\n",
      "Cluster 16:\n",
      "  System reboot initiated by user User243.\n",
      "  System reboot initiated by user User471.\n",
      "  System reboot initiated by user User216.\n",
      "  System reboot initiated by user User639.\n",
      "  System reboot initiated by user User819.\n",
      "Cluster 20:\n",
      "  User 7662 tried to bypass API security measures\n",
      "  User 2367 failed to provide valid API access credentials\n",
      "  User 3569 made an unauthorized API request\n",
      "  Unauthorized user 2968 tried to access restricted API\n",
      "  User 2186 attempted to access API without proper authorization\n",
      "Cluster 9:\n",
      "  Account with ID 5351 created by User634.\n",
      "  Account with ID 7813 created by User373.\n",
      "  Account with ID 9827 created by User965.\n",
      "  Account with ID 2520 created by User546.\n",
      "  Account with ID 2300 created by User964.\n",
      "Cluster 1:\n",
      "  Email service experiencing issues with sending\n",
      "  Email server encountered a sending fault\n",
      "  Mail service encountered a delivery glitch\n",
      "  Service disruption caused by email sending error\n",
      "  Email system had a problem sending emails\n",
      "Cluster 10:\n",
      "  nova.compute.resource_tracker [req-addc1839-2ed5-4778-b57e-5854eb7b8b09 - - - - -] Final resource view: name=cp-1.slowvm1.tcloud-pg0.utah.cloudlab.us phys_ram=64172MB used_ram=512MB phys_disk=15GB used_disk=0GB total_vcpus=16 used_vcpus=0 pci_stats=[]\n",
      "  nova.compute.resource_tracker [req-addc1839-2ed5-4778-b57e-5854eb7b8b09 - - - - -] Final resource view: name=cp-1.slowvm1.tcloud-pg0.utah.cloudlab.us phys_ram=64172MB used_ram=2560MB phys_disk=15GB used_disk=20GB total_vcpus=16 used_vcpus=1 pci_stats=[]\n",
      "  nova.compute.resource_tracker [req-addc1839-2ed5-4778-b57e-5854eb7b8b09 - - - - -] Total usable vcpus: 16, total allocated vcpus: 0\n",
      "  nova.compute.resource_tracker [req-addc1839-2ed5-4778-b57e-5854eb7b8b09 - - - - -] Final resource view: name=cp-1.slowvm1.tcloud-pg0.utah.cloudlab.us phys_ram=64172MB used_ram=2560MB phys_disk=15GB used_disk=20GB total_vcpus=16 used_vcpus=1 pci_stats=[]\n",
      "  nova.compute.resource_tracker [req-addc1839-2ed5-4778-b57e-5854eb7b8b09 - - - - -] Final resource view: name=cp-1.slowvm1.tcloud-pg0.utah.cloudlab.us phys_ram=64172MB used_ram=2560MB phys_disk=15GB used_disk=20GB total_vcpus=16 used_vcpus=1 pci_stats=[]\n",
      "Cluster 34:\n",
      "  Abnormal behavior found on server 10, possible security threat\n",
      "  Security alert: suspicious activity on server 1\n",
      "  Anomalous activity identified on server 23, security review recommended\n",
      "  Server 27 experienced potential security incident, review required\n",
      "  Server 36 experienced potential security incident, review required\n",
      "Cluster 14:\n",
      "  Detection of multiple disk faults in RAID setup\n",
      "  RAID array suffered multiple hard drive failures\n",
      "  RAID array experienced multiple disk crashes\n",
      "  Multiple hard drive issues in RAID configuration found\n",
      "  Identification of multiple faulty disks in RAID array\n",
      "Cluster 53:\n",
      "  Module X experienced an invalid data format issue\n",
      "  Input format mismatch occurred in module X\n",
      "  Module X reported an error in input format validation\n",
      "  Module X failed to process input due to formatting error\n",
      "  Input data format in module X was invalid or corrupted\n",
      "Cluster 52:\n",
      "  Service health check was not successful because of SSL certificate validation failures.\n",
      "  Invalid SSL certificate resulted in a failed service health check.\n",
      "  Service health check failure was due to an invalid or improperly configured SSL certificate.\n",
      "  An issue with the SSL certificate caused the service health check to fail.\n",
      "  Service health check failure was caused by an expired SSL certificate.\n",
      "Cluster 18:\n",
      "  Boot process terminated unexpectedly due to kernel issue\n",
      "  System encountered kernel panic during initialization phase\n",
      "  Boot process was stopped by kernel malfunction\n",
      "  System encountered kernel failure during bootup sequence\n",
      "  Boot sequence failed due to kernel panic\n",
      "Cluster 25:\n",
      "  System configuration is no longer valid\n",
      "  Configuration is corrupted throughout the system\n",
      "  Cross-system configuration failure occurred\n",
      "  System configuration is experiencing errors\n",
      "  Configuration malfunction is system-wide\n",
      "Cluster 42:\n",
      "  User 5127 has escalated admin privileges without authorization\n",
      "  User 9745 has escalated to admin level\n",
      "  User 8483 escalated privileges to admin level\n",
      "  User 1987 has escalated to admin level\n",
      "  User 8395 escalated privileges to admin level\n",
      "Cluster 59:\n",
      "  Potential security threat: Admin privilege escalation for user 5130\n",
      "  Admin privilege escalation alert for user 2893\n",
      "  Admin privilege escalation alert for user 8532\n",
      "  Potential security threat: Admin privilege escalation for user 1554\n",
      "  Warning: Potential admin privilege escalation for user 5720\n",
      "Cluster 26:\n",
      "  Privilege elevation detected for user 5038\n",
      "  Elevation of admin privileges detected for user 6137\n",
      "  Elevation of admin privileges detected for user 4907\n",
      "  User 6069 has been granted elevated admin privileges\n",
      "  Admin privilege elevation warning for user 7574\n"
     ]
    }
   ],
   "source": [
    "# Group by cluster to inspect patterns\n",
    "clusters = df.groupby('cluster')['log_message'].apply(list)\n",
    "sorted_clusters = clusters.sort_values(key=lambda x: x.map(len), ascending=False)\n",
    "\n",
    "print(\"Clustered Patterns:\")\n",
    "for cluster_id, messages in sorted_clusters.items():\n",
    "    if len(messages) > 10:\n",
    "        print(f\"Cluster {cluster_id}:\")\n",
    "        for msg in messages[:5]:\n",
    "            print(f\"  {msg}\")"
   ]
  },
  {
   "cell_type": "code",
   "execution_count": 7,
   "id": "a59574e4",
   "metadata": {},
   "outputs": [],
   "source": [
    "import re\n",
    "def classify_with_regex(log_message):\n",
    "    regex_patterns = {\n",
    "        r\"User User\\d+ logged (in|out).\": \"User Action\",\n",
    "        r\"Backup (started|ended) at .*\": \"System Notification\",\n",
    "        r\"Backup completed successfully.\": \"System Notification\",\n",
    "        r\"System updated to version .*\": \"System Notification\",\n",
    "        r\"File .* uploaded successfully by user .*\": \"System Notification\",\n",
    "        r\"Disk cleanup completed successfully.\": \"System Notification\",\n",
    "        r\"System reboot initiated by user .*\": \"System Notification\",\n",
    "        r\"Account with ID .* created by .*\": \"User Action\"\n",
    "    }\n",
    "    for pattern, label in regex_patterns.items():\n",
    "        if re.search(pattern, log_message):\n",
    "            return label\n",
    "    return None"
   ]
  },
  {
   "cell_type": "code",
   "execution_count": 8,
   "id": "42029991",
   "metadata": {},
   "outputs": [
    {
     "data": {
      "text/plain": [
       "(1910, 6)"
      ]
     },
     "execution_count": 8,
     "metadata": {},
     "output_type": "execute_result"
    }
   ],
   "source": [
    "df[\"regex_label\"] = df[\"log_message\"].apply(lambda x : classify_with_regex(x))\n",
    "df[df[\"regex_label\"].isnull()].shape"
   ]
  },
  {
   "cell_type": "code",
   "execution_count": 9,
   "id": "40107489",
   "metadata": {},
   "outputs": [
    {
     "data": {
      "text/plain": [
       "(1910, 6)"
      ]
     },
     "execution_count": 9,
     "metadata": {},
     "output_type": "execute_result"
    }
   ],
   "source": [
    "df_non_regex = df[df[\"regex_label\"].isnull()].copy()\n",
    "df_non_regex.shape"
   ]
  },
  {
   "cell_type": "code",
   "execution_count": 11,
   "id": "07bd68a9",
   "metadata": {},
   "outputs": [
    {
     "data": {
      "text/plain": [
       "array(['ModernCRM', 'AnalyticsEngine', 'ModernHR', 'BillingSystem',\n",
       "       'ThirdPartyAPI', 'LegacyCRM'], dtype=object)"
      ]
     },
     "execution_count": 11,
     "metadata": {},
     "output_type": "execute_result"
    }
   ],
   "source": [
    "df_non_regex[\"source\"].unique()"
   ]
  },
  {
   "cell_type": "code",
   "execution_count": 14,
   "id": "05952fe0",
   "metadata": {},
   "outputs": [],
   "source": [
    "df_non_legacy=df_non_regex[df_non_regex[\"source\"] != \"LegacyCRM\"]"
   ]
  },
  {
   "cell_type": "code",
   "execution_count": 16,
   "id": "3924f32d",
   "metadata": {},
   "outputs": [],
   "source": [
    "df_legacy=df_non_regex[df_non_regex[\"source\"] == \"LegacyCRM\"]"
   ]
  },
  {
   "cell_type": "code",
   "execution_count": 18,
   "id": "93bfc527",
   "metadata": {},
   "outputs": [
    {
     "name": "stderr",
     "output_type": "stream",
     "text": [
      "Batches: 100%|█████████████████████████████████| 60/60 [00:21<00:00,  2.85it/s]\n"
     ]
    }
   ],
   "source": [
    "model = SentenceTransformer('all-MiniLM-L6-v2')\n",
    "\n",
    "# Generate embeddings for the log_message column\n",
    "embeddings_filtered = model.encode(df_non_legacy['log_message'].tolist(), show_progress_bar=True)"
   ]
  },
  {
   "cell_type": "code",
   "execution_count": 19,
   "id": "efeea810",
   "metadata": {},
   "outputs": [],
   "source": [
    "x= embeddings_filtered\n",
    "y= df_non_legacy['target_label'].values"
   ]
  },
  {
   "cell_type": "code",
   "execution_count": 21,
   "id": "33c14195",
   "metadata": {},
   "outputs": [
    {
     "name": "stdout",
     "output_type": "stream",
     "text": [
      "                precision    recall  f1-score   support\n",
      "\n",
      "Critical Error       1.00      0.98      0.99        48\n",
      "         Error       1.00      1.00      1.00        53\n",
      "   HTTP Status       1.00      1.00      1.00       305\n",
      "Resource Usage       1.00      1.00      1.00        53\n",
      "Security Alert       0.99      1.00      1.00       112\n",
      "\n",
      "      accuracy                           1.00       571\n",
      "     macro avg       1.00      1.00      1.00       571\n",
      "  weighted avg       1.00      1.00      1.00       571\n",
      "\n"
     ]
    }
   ],
   "source": [
    "from sklearn.model_selection import train_test_split\n",
    "from sklearn.linear_model import LogisticRegression\n",
    "from sklearn.metrics import classification_report\n",
    "\n",
    "# Split data into train and test sets\n",
    "x_train, x_test, y_train, y_test = train_test_split(x, y, test_size=0.3, random_state=42, stratify=y)\n",
    "\n",
    "# Train logistic regression model\n",
    "clf = LogisticRegression(max_iter=1000, random_state=42)\n",
    "clf.fit(x_train, y_train)\n",
    "\n",
    "# Predict on test data\n",
    "y_pred_test = clf.predict(x_test)\n",
    "\n",
    "# Print classification report\n",
    "print(classification_report(y_test, y_pred_test))"
   ]
  },
  {
   "cell_type": "code",
   "execution_count": 24,
   "id": "419ec6e2",
   "metadata": {},
   "outputs": [
    {
     "data": {
      "text/plain": [
       "['C:\\\\Users\\\\aniru\\\\Desktop\\\\log_managment_tool\\\\model\\\\log_classifier.joblib']"
      ]
     },
     "execution_count": 24,
     "metadata": {},
     "output_type": "execute_result"
    }
   ],
   "source": [
    "import joblib\n",
    "# Save the trained model\n",
    "joblib.dump(clf, r'C:\\Users\\aniru\\Desktop\\log_managment_tool\\model\\log_classifier.joblib')"
   ]
  },
  {
   "cell_type": "code",
   "execution_count": null,
   "id": "d8c1cc3d",
   "metadata": {},
   "outputs": [],
   "source": []
  }
 ],
 "metadata": {
  "kernelspec": {
   "display_name": "Python 3 (ipykernel)",
   "language": "python",
   "name": "python3"
  }
 },
 "nbformat": 4,
 "nbformat_minor": 5
}
